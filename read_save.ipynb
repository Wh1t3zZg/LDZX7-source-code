{
 "cells": [
  {
   "cell_type": "markdown",
   "metadata": {},
   "source": [
    "# read point cloud file"
   ]
  },
  {
   "cell_type": "markdown",
   "metadata": {},
   "source": [
    ".xyz\n",
    "\n",
    "There are several variations of this ASCII file format, all based on Cartesian coordinates (XYZ coordinates). XYZ formats are designed for importing and exporting geometries and are widely accepted by different point cloud processing software."
   ]
  },
  {
   "cell_type": "code",
   "execution_count": null,
   "metadata": {},
   "outputs": [],
   "source": [
    "import numpy as np\n",
    "\n",
    "point_cloud = np.loadtxt('sample.xyz', skiprows=1)"
   ]
  },
  {
   "cell_type": "markdown",
   "metadata": {},
   "source": [
    ".ply\n",
    "\n",
    "PLY is a computer file format known as the Polygon File Format or the Stanford Triangle Format. It was principally designed to store three-dimensional data from 3D scanners. "
   ]
  },
  {
   "cell_type": "code",
   "execution_count": null,
   "metadata": {},
   "outputs": [],
   "source": [
    "from open3d import *\n",
    "\n",
    "point_cloud = io.read_point_cloud(\"sample.ply\")\n",
    "\n",
    "point_cloud = np.asarray(point_cloud.points)\n",
    "colors = np.asarray(point_cloud.colors)"
   ]
  },
  {
   "cell_type": "markdown",
   "metadata": {},
   "source": [
    ".las\n",
    "\n",
    "LAS is a binary format used specifically for storing LiDAR data. It’s an industry-standard format, so it’s widely used and compatible with most programs. "
   ]
  },
  {
   "cell_type": "code",
   "execution_count": null,
   "metadata": {},
   "outputs": [],
   "source": [
    "import laspy as lp\n",
    "\n",
    "point_cloud = lp.file.File(\"sample.las\", mode=\"r\")\n",
    "\n",
    "# separate coordinates from colours, and put them in NumPy arrays\n",
    "point_cloud = np.vstack((point_cloud.x, point_cloud.y, point_cloud.z)).transpose()\n",
    "pc_colors = np.vstack((point_cloud.red, point_cloud.green, point_cloud.blue)).transpose()\n",
    "\n",
    "\n",
    "import pclpy\n",
    "\n",
    "point_cloud = pclpy.read(\"sample.las\", \"PointXYZRGBA\")  # PointXYZ PointXYZI PointXYZINormal PointNormal PointXYZRGBNormal PointXYZRGBA\n",
    "# output of pclpy.read\n",
    "# ... pc = getattr(pcl.PointCloud, point_type).from_array(*data)"
   ]
  },
  {
   "cell_type": "markdown",
   "metadata": {},
   "source": [
    "to torch tensor"
   ]
  },
  {
   "cell_type": "code",
   "execution_count": null,
   "metadata": {},
   "outputs": [],
   "source": [
    "import torch\n",
    "\n",
    "point_cloud = torch.tensor(point_cloud)"
   ]
  },
  {
   "cell_type": "markdown",
   "metadata": {},
   "source": [
    "**save point clouds**"
   ]
  },
  {
   "cell_type": "code",
   "execution_count": null,
   "metadata": {},
   "outputs": [],
   "source": [
    "import numpy as np\n",
    "import pandas as pd\n",
    "\n",
    "from pyntcloud import PyntCloud\n",
    "\n",
    "cloud = PyntCloud(pd.DataFrame(\n",
    "    # same arguments that you are passing to visualize_pcl\n",
    "    data=np.hstack((points, colors)),\n",
    "    columns=[\"x\", \"y\", \"z\", \"red\", \"green\", \"blue\"]))\n",
    "\n",
    "cloud.to_file(\"output.ply\")"
   ]
  },
  {
   "cell_type": "code",
   "execution_count": null,
   "metadata": {},
   "outputs": [],
   "source": [
    "# save and visualize via Open3D\n",
    "import open3d as o3d\n",
    "\n",
    "pc = o3d.geometry.PointCloud()\n",
    "pc.points = o3d.utility.Vector3dVector(points)\n",
    "o3d.io.write_point_cloud(\"./filename.ply\", pc)\n",
    "\n",
    "# visualize point cloud\n",
    "o3d.visualization.draw_geometries([pc])"
   ]
  },
  {
   "cell_type": "markdown",
   "metadata": {},
   "source": [
    "# read mesh file"
   ]
  },
  {
   "cell_type": "markdown",
   "metadata": {},
   "source": [
    ".obj"
   ]
  },
  {
   "cell_type": "code",
   "execution_count": null,
   "metadata": {},
   "outputs": [],
   "source": [
    "# method 1\n",
    "from pymesh import load_mesh\n",
    "\n",
    "mesh = load_mesh(\"mesh.obj\")\n",
    "# PyMesh supports parsing the following formats: .obj, .ply, .off, .stl, .mesh, .node, .poly and .msh.\n",
    "vertices = mesh.vertices\n",
    "faces = mesh.faces\n",
    "\n",
    "# method 2\n",
    "from pytorch3d.io import load_objs_as_meshes\n",
    "mesh = load_objs_as_meshes(\"mesh.obj\", device=torch.device(\"cpu\"))"
   ]
  },
  {
   "cell_type": "code",
   "execution_count": null,
   "metadata": {},
   "outputs": [],
   "source": [
    "# from raw data\n",
    "# vertices, faces and voxels are of type numpy.ndarray. One vertex/face/voxel per row\n",
    "from pymesh import from_mesh\n",
    "\n",
    "# for surface mesh\n",
    "mesh = form_mesh(vertices, faces)\n",
    "\n",
    "# for volume mesh\n",
    "mesh = pymesh.form_mesh(vertices, faces, voxels)"
   ]
  },
  {
   "cell_type": "code",
   "execution_count": 2,
   "metadata": {},
   "outputs": [
    {
     "name": "stdout",
     "output_type": "stream",
     "text": [
      "<class 'numpy.ndarray'> <class 'numpy.ndarray'>\n"
     ]
    }
   ],
   "source": [
    "import meshio\n",
    "\n",
    "mesh = meshio.read('bunny.obj')\n",
    "\n",
    "vertices = mesh.points\n",
    "faces = mesh.cells_dict['triangle']\n",
    "print(type(vertices),type(faces))"
   ]
  },
  {
   "cell_type": "markdown",
   "metadata": {},
   "source": [
    "source: https://pymesh.readthedocs.io/en/latest/basic.html#loading-mesh"
   ]
  },
  {
   "cell_type": "markdown",
   "metadata": {},
   "source": [
    ".stl"
   ]
  },
  {
   "cell_type": "code",
   "execution_count": null,
   "metadata": {},
   "outputs": [],
   "source": [
    "from stl import mesh\n",
    "\n",
    "# Using an existing stl file:\n",
    "stl = mesh.Mesh.from_file('some_file.stl')\n",
    "# output numpy.array\n",
    "stl_tensor = torch.tensor(stl)\n",
    "# ??"
   ]
  },
  {
   "cell_type": "code",
   "execution_count": null,
   "metadata": {},
   "outputs": [],
   "source": [
    "import meshio\n",
    "\n",
    "mesh = meshio.read('some_file.stl')"
   ]
  },
  {
   "cell_type": "markdown",
   "metadata": {},
   "source": [
    "**save mesh**"
   ]
  },
  {
   "cell_type": "code",
   "execution_count": null,
   "metadata": {},
   "outputs": [],
   "source": [
    "import numpy as np\n",
    "import struct\n",
    "# package struct for binary string processing\n",
    "\n",
    "def write_binary_stl(path, points):\n",
    "    n = len(points) // 3\n",
    "\n",
    "    points = np.array(points, dtype='float32').reshape((-1, 3, 3))\n",
    "    normals = np.cross(points[:,1] - points[:,0], points[:,2] - points[:,0])\n",
    "    normals /= np.linalg.norm(normals, axis=1).reshape((-1, 1))\n",
    "\n",
    "    dtype = np.dtype([\n",
    "        ('normal', ('<f', 3)),\n",
    "        ('points', ('<f', (3, 3))),\n",
    "        ('attr', '<H'),\n",
    "    ])\n",
    "\n",
    "    a = np.zeros(n, dtype=dtype)\n",
    "    a['points'] = points\n",
    "    a['normal'] = normals\n",
    "\n",
    "    with open(path, 'wb') as fp:\n",
    "        fp.write(b'\\x00' * 80)\n",
    "        fp.write(struct.pack('<I', n))\n",
    "        fp.write(a.tobytes())"
   ]
  },
  {
   "cell_type": "code",
   "execution_count": null,
   "metadata": {},
   "outputs": [],
   "source": [
    "# save via package meshio\n",
    "import meshio\n",
    "\n",
    "# example code\n",
    "points = [\n",
    "    [0.0, 0.0],\n",
    "    [1.0, 0.0],\n",
    "    [0.0, 1.0],\n",
    "    [1.0, 1.0],\n",
    "    [2.0, 0.0],\n",
    "    [2.0, 1.0],\n",
    "]\n",
    "cells = [\n",
    "    (\"triangle\", [[0, 1, 2], [1, 3, 2]]),\n",
    "    (\"quad\", [[1, 4, 5, 3]]),\n",
    "]\n",
    "\n",
    "mesh = meshio.Mesh(\n",
    "    points,\n",
    "    cells,\n",
    "    # Optionally provide extra data on points, cells, etc.\n",
    "    point_data={\"T\": [0.3, -1.2, 0.5, 0.7, 0.0, -3.0]},\n",
    "    # Each item in cell data must match the cells array\n",
    "    cell_data={\"a\": [[0.1, 0.2], [0.4]]},\n",
    ")\n",
    "mesh.write(\n",
    "    \"filename.vtk\",  # str, os.PathLike, or buffer/open file\n",
    "    # file_format=\"vtk\",  # optional if first argument is a path; inferred from extension\n",
    ")\n",
    "\n",
    "# Alternative with the same options\n",
    "meshio.write_points_cells(\"filename.vtk\", points, cells)"
   ]
  },
  {
   "cell_type": "code",
   "execution_count": null,
   "metadata": {},
   "outputs": [],
   "source": [
    "# save via pymesh package\n",
    "from pymesh import from_mesh\n",
    "\n",
    "mesh = form_mesh(vertices, faces)\n",
    "\n",
    "import pymesh\n",
    "pymesh.save_mesh(\"filename.obj\", mesh, \n",
    "                # ascii=True,\n",
    "                # use_float=True,\n",
    "                # attribute_name_1, attribute_name_2, ...\n",
    "                )"
   ]
  },
  {
   "cell_type": "markdown",
   "metadata": {},
   "source": [
    "**visualize mesh**"
   ]
  },
  {
   "cell_type": "code",
   "execution_count": null,
   "metadata": {},
   "outputs": [],
   "source": [
    "import open3d as o3d\n",
    "# mesh file types support by open3d: .ply .stl .obj .off .gltf\n",
    "\n",
    "mesh = o3d.io.read_triangle_mesh(\"../../filename.ply\")\n",
    "\n",
    "mesh.compute_vertex_normals()\n",
    "\n",
    "o3d.visualization.draw_geometries([mesh])\n",
    "\n",
    "# o3d.visualization.draw_geometries([mesh], mesh_show_wireframe=True)"
   ]
  },
  {
   "cell_type": "markdown",
   "metadata": {},
   "source": [
    "# read SDF"
   ]
  },
  {
   "cell_type": "markdown",
   "metadata": {},
   "source": [
    "usually save as a function in a Python script, and import by *import*"
   ]
  },
  {
   "cell_type": "markdown",
   "metadata": {},
   "source": [
    "# visualize sdf"
   ]
  },
  {
   "cell_type": "code",
   "execution_count": null,
   "metadata": {},
   "outputs": [],
   "source": [
    "# visualize sdf\n",
    "\n",
    "# The code simply uses the Marching Cubes algorithm to generate a mesh from the Signed Distance Function.\n",
    "# This would normally be abysmally slow in Python. However, numpy is used to evaluate the SDF on entire batches \n",
    "# of points simultaneously. Furthermore, multiple threads are used to process batches in parallel. The result \n",
    "# is surprisingly fast (for marching cubes). Meshes of adequate detail can still be quite large in terms of \n",
    "# number of triangles.\n",
    "from functools import partial\n",
    "from multiprocessing.pool import ThreadPool\n",
    "from skimage import measure\n",
    "\n",
    "import multiprocessing\n",
    "import itertools\n",
    "import numpy as np\n",
    "import time\n",
    "\n",
    "from . import progress, stl\n",
    "\n",
    "WORKERS = multiprocessing.cpu_count()\n",
    "SAMPLES = 2 ** 22\n",
    "BATCH_SIZE = 32\n",
    "\n",
    "def _marching_cubes(volume, level=0):\n",
    "    verts, faces, _, _ = measure.marching_cubes(volume, level)\n",
    "    return verts[faces].reshape((-1, 3))\n",
    "\n",
    "def _cartesian_product(*arrays):\n",
    "    la = len(arrays)\n",
    "    dtype = np.result_type(*arrays)\n",
    "    arr = np.empty([len(a) for a in arrays] + [la], dtype=dtype)\n",
    "    for i, a in enumerate(np.ix_(*arrays)):\n",
    "        arr[...,i] = a\n",
    "    return arr.reshape(-1, la)\n",
    "\n",
    "def _skip(sdf, job):\n",
    "    X, Y, Z = job\n",
    "    x0, x1 = X[0], X[-1]\n",
    "    y0, y1 = Y[0], Y[-1]\n",
    "    z0, z1 = Z[0], Z[-1]\n",
    "    x = (x0 + x1) / 2\n",
    "    y = (y0 + y1) / 2\n",
    "    z = (z0 + z1) / 2\n",
    "    r = abs(sdf(np.array([(x, y, z)])).reshape(-1)[0])\n",
    "    d = np.linalg.norm(np.array((x-x0, y-y0, z-z0)))\n",
    "    if r <= d:\n",
    "        return False\n",
    "    corners = np.array(list(itertools.product((x0, x1), (y0, y1), (z0, z1))))\n",
    "    values = sdf(corners).reshape(-1)\n",
    "    same = np.all(values > 0) if values[0] > 0 else np.all(values < 0)\n",
    "    return same\n",
    "\n",
    "def _worker(sdf, job, sparse):\n",
    "    X, Y, Z = job\n",
    "    if sparse and _skip(sdf, job):\n",
    "        return None\n",
    "        # return _debug_triangles(X, Y, Z)\n",
    "    P = _cartesian_product(X, Y, Z)\n",
    "    volume = sdf(P).reshape((len(X), len(Y), len(Z)))\n",
    "    try:\n",
    "        points = _marching_cubes(volume)\n",
    "    except Exception:\n",
    "        return []\n",
    "        # return _debug_triangles(X, Y, Z)\n",
    "    scale = np.array([X[1] - X[0], Y[1] - Y[0], Z[1] - Z[0]])\n",
    "    offset = np.array([X[0], Y[0], Z[0]])\n",
    "    return points * scale + offset\n",
    "\n",
    "def _estimate_bounds(sdf):\n",
    "    # TODO: raise exception if bound estimation fails\n",
    "    s = 16\n",
    "    x0 = y0 = z0 = -1e9\n",
    "    x1 = y1 = z1 = 1e9\n",
    "    prev = None\n",
    "    for i in range(32):\n",
    "        X = np.linspace(x0, x1, s)\n",
    "        Y = np.linspace(y0, y1, s)\n",
    "        Z = np.linspace(z0, z1, s)\n",
    "        d = np.array([X[1] - X[0], Y[1] - Y[0], Z[1] - Z[0]])\n",
    "        threshold = np.linalg.norm(d) / 2\n",
    "        if threshold == prev:\n",
    "            break\n",
    "        prev = threshold\n",
    "        P = _cartesian_product(X, Y, Z)\n",
    "        volume = sdf(P).reshape((len(X), len(Y), len(Z)))\n",
    "        where = np.argwhere(np.abs(volume) <= threshold)\n",
    "        x1, y1, z1 = (x0, y0, z0) + where.max(axis=0) * d + d / 2\n",
    "        x0, y0, z0 = (x0, y0, z0) + where.min(axis=0) * d - d / 2\n",
    "    return ((x0, y0, z0), (x1, y1, z1))\n",
    "\n",
    "def generate(\n",
    "        sdf,\n",
    "        step=None, bounds=None, samples=SAMPLES,\n",
    "        workers=WORKERS, batch_size=BATCH_SIZE,\n",
    "        verbose=True, sparse=True):\n",
    "\n",
    "    start = time.time()\n",
    "\n",
    "    if bounds is None:\n",
    "        bounds = _estimate_bounds(sdf)\n",
    "    (x0, y0, z0), (x1, y1, z1) = bounds\n",
    "\n",
    "    if step is None and samples is not None:\n",
    "        volume = (x1 - x0) * (y1 - y0) * (z1 - z0)\n",
    "        step = (volume / samples) ** (1 / 3)\n",
    "\n",
    "    try:\n",
    "        dx, dy, dz = step\n",
    "    except TypeError:\n",
    "        dx = dy = dz = step\n",
    "\n",
    "    if verbose:\n",
    "        print('min %g, %g, %g' % (x0, y0, z0))\n",
    "        print('max %g, %g, %g' % (x1, y1, z1))\n",
    "        print('step %g, %g, %g' % (dx, dy, dz))\n",
    "\n",
    "    X = np.arange(x0, x1, dx)\n",
    "    Y = np.arange(y0, y1, dy)\n",
    "    Z = np.arange(z0, z1, dz)\n",
    "\n",
    "    s = batch_size\n",
    "    Xs = [X[i:i+s+1] for i in range(0, len(X), s)]\n",
    "    Ys = [Y[i:i+s+1] for i in range(0, len(Y), s)]\n",
    "    Zs = [Z[i:i+s+1] for i in range(0, len(Z), s)]\n",
    "\n",
    "    batches = list(itertools.product(Xs, Ys, Zs))\n",
    "    num_batches = len(batches)\n",
    "    num_samples = sum(len(xs) * len(ys) * len(zs)\n",
    "        for xs, ys, zs in batches)\n",
    "\n",
    "    if verbose:\n",
    "        print('%d samples in %d batches with %d workers' %\n",
    "            (num_samples, num_batches, workers))\n",
    "\n",
    "    points = []\n",
    "    skipped = empty = nonempty = 0\n",
    "    bar = progress.Bar(num_batches, enabled=verbose)\n",
    "    pool = ThreadPool(workers)\n",
    "    f = partial(_worker, sdf, sparse=sparse)\n",
    "    for result in pool.imap(f, batches):\n",
    "        bar.increment(1)\n",
    "        if result is None:\n",
    "            skipped += 1\n",
    "        elif len(result) == 0:\n",
    "            empty += 1\n",
    "        else:\n",
    "            nonempty += 1\n",
    "            points.extend(result)\n",
    "    bar.done()\n",
    "\n",
    "    if verbose:\n",
    "        print('%d skipped, %d empty, %d nonempty' % (skipped, empty, nonempty))\n",
    "        triangles = len(points) // 3\n",
    "        seconds = time.time() - start\n",
    "        print('%d triangles in %g seconds' % (triangles, seconds))\n",
    "\n",
    "    return points\n",
    "\n",
    "def save(path, *args, **kwargs):\n",
    "    points = generate(*args, **kwargs)\n",
    "    if path.lower().endswith('.stl'):\n",
    "        stl.write_binary_stl(path, points)\n",
    "    else:\n",
    "        mesh = _mesh(points)\n",
    "        mesh.write(path)\n",
    "\n",
    "def _mesh(points):\n",
    "    import meshio\n",
    "    points, cells = np.unique(points, axis=0, return_inverse=True)\n",
    "    cells = [('triangle', cells.reshape((-1, 3)))]\n",
    "    return meshio.Mesh(points, cells)\n",
    "\n",
    "def _debug_triangles(X, Y, Z):\n",
    "    x0, x1 = X[0], X[-1]\n",
    "    y0, y1 = Y[0], Y[-1]\n",
    "    z0, z1 = Z[0], Z[-1]\n",
    "\n",
    "    p = 0.25\n",
    "    x0, x1 = x0 + (x1 - x0) * p, x1 - (x1 - x0) * p\n",
    "    y0, y1 = y0 + (y1 - y0) * p, y1 - (y1 - y0) * p\n",
    "    z0, z1 = z0 + (z1 - z0) * p, z1 - (z1 - z0) * p\n",
    "\n",
    "    v = [\n",
    "        (x0, y0, z0),\n",
    "        (x0, y0, z1),\n",
    "        (x0, y1, z0),\n",
    "        (x0, y1, z1),\n",
    "        (x1, y0, z0),\n",
    "        (x1, y0, z1),\n",
    "        (x1, y1, z0),\n",
    "        (x1, y1, z1),\n",
    "    ]\n",
    "\n",
    "    return [\n",
    "        v[3], v[5], v[7],\n",
    "        v[5], v[3], v[1],\n",
    "        v[0], v[6], v[4],\n",
    "        v[6], v[0], v[2],\n",
    "        v[0], v[5], v[1],\n",
    "        v[5], v[0], v[4],\n",
    "        v[5], v[6], v[7],\n",
    "        v[6], v[5], v[4],\n",
    "        v[6], v[3], v[7],\n",
    "        v[3], v[6], v[2],\n",
    "        v[0], v[3], v[2],\n",
    "        v[3], v[0], v[1],\n",
    "    ]\n",
    "\n",
    "def sample_slice(\n",
    "        sdf, w=1024, h=1024,\n",
    "        x=None, y=None, z=None, bounds=None):\n",
    "\n",
    "    if bounds is None:\n",
    "        bounds = _estimate_bounds(sdf)\n",
    "    (x0, y0, z0), (x1, y1, z1) = bounds\n",
    "\n",
    "    if x is not None:\n",
    "        X = np.array([x])\n",
    "        Y = np.linspace(y0, y1, w)\n",
    "        Z = np.linspace(z0, z1, h)\n",
    "        extent = (Z[0], Z[-1], Y[0], Y[-1])\n",
    "        axes = 'ZY'\n",
    "    elif y is not None:\n",
    "        Y = np.array([y])\n",
    "        X = np.linspace(x0, x1, w)\n",
    "        Z = np.linspace(z0, z1, h)\n",
    "        extent = (Z[0], Z[-1], X[0], X[-1])\n",
    "        axes = 'ZX'\n",
    "    elif z is not None:\n",
    "        Z = np.array([z])\n",
    "        X = np.linspace(x0, x1, w)\n",
    "        Y = np.linspace(y0, y1, h)\n",
    "        extent = (Y[0], Y[-1], X[0], X[-1])\n",
    "        axes = 'YX'\n",
    "    else:\n",
    "        raise Exception('x, y, or z position must be specified')\n",
    "\n",
    "    P = _cartesian_product(X, Y, Z)\n",
    "    return sdf(P).reshape((w, h)), extent, axes\n",
    "\n",
    "def show_slice(*args, **kwargs):\n",
    "    import matplotlib.pyplot as plt\n",
    "    show_abs = kwargs.pop('abs', False)\n",
    "    a, extent, axes = sample_slice(*args, **kwargs)\n",
    "    if show_abs:\n",
    "        a = np.abs(a)\n",
    "    im = plt.imshow(a, extent=extent, origin='lower')\n",
    "    plt.xlabel(axes[0])\n",
    "    plt.ylabel(axes[1])\n",
    "    plt.colorbar(im)\n",
    "    plt.show()"
   ]
  }
 ],
 "metadata": {
  "kernelspec": {
   "display_name": "Python 3",
   "language": "python",
   "name": "python3"
  },
  "language_info": {
   "codemirror_mode": {
    "name": "ipython",
    "version": 3
   },
   "file_extension": ".py",
   "mimetype": "text/x-python",
   "name": "python",
   "nbconvert_exporter": "python",
   "pygments_lexer": "ipython3",
   "version": "3.8.5"
  }
 },
 "nbformat": 4,
 "nbformat_minor": 2
}
